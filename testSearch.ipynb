{
 "cells": [
  {
   "cell_type": "code",
   "execution_count": 2,
   "metadata": {},
   "outputs": [],
   "source": [
    "import pandas as pd\n",
    "import re\n",
    "from difflib import get_close_matches\n",
    "\n",
    "# Load the data\n",
    "uom = pd.read_csv(\"uom.csv\")\n",
    "location = pd.read_csv(\"indianLocationList.csv\", encoding=\"ISO-8859-1\")\n",
    "# prepositions = pd.read_csv(\"prepositions_updated.csv\")['prepositions'].tolist()\n",
    "prepositions = pd.read_csv(\"Place_preposition_Product.csv\")['Preposition'].tolist()\n",
    "shortCodes = pd.read_csv(\"shortCodesProduct.csv\")\n",
    "procurement = pd.read_csv(\"procurementTerms.csv\")\n",
    "product_df = pd.read_csv(\"Updated_keywordProductSynonym2.csv\", encoding = \"Windows-1252\")\n",
    "product_df['synonymkeyword'] = product_df['synonymkeyword'].fillna('')\n",
    "company_df = pd.read_csv(\"Copy of company_list_with_abbr.csv\")\n",
    "stop_words = pd.read_csv(\"stop_words.csv\")"
   ]
  },
  {
   "cell_type": "code",
   "execution_count": 103,
   "metadata": {},
   "outputs": [],
   "source": [
    "def search_keywords(input_text):\n",
    "    words = input_text.split()\n",
    "    cleaned_words = []\n",
    "    for i in range(len(words)):\n",
    "        if words[i].lower() in prepositions:\n",
    "            break\n",
    "        cleaned_words.append(words[i])\n",
    "    output_text = ' '.join(cleaned_words)\n",
    "    print('OutPut:',output_text)\n",
    "    # remove unwanted characters\n",
    "    output_text = output_text.replace(\",\", \" BRK\").replace(\".\", \" BRK\")\n",
    "    output_text = re.findall(r'[a-zA-Z]+', output_text)\n",
    "    # remove stop words\n",
    "    filtered_words = [word for word in output_text if word.lower() not in stop_words]\n",
    "    # initialize variables\n",
    "    keyword_matches = []\n",
    "    remaining_words = filtered_words\n",
    "    print('remaining_words',remaining_words)\n",
    "    # search for longest possible matching word strings in keyword column\n",
    "    print('Len:',len(remaining_words))\n",
    "    for i in words:\n",
    "        print('i:',i)\n",
    "        phrase = ' '.join([i])\n",
    "        print(\"phrase\", phrase)\n",
    "        matches = product_df[product_df['keyword'].str.lower() == phrase.lower()]\n",
    "        print(' Match:',matches)\n",
    "        if len(matches) > 0:\n",
    "            keyword_matches.append((matches.iloc[0]['keycodeid'], phrase))\n",
    "            print('Keyword Match:',keyword_matches)\n",
    "            # remaining_words = remaining_words[i:]\n",
    "            # print('remaining_words:',remaining_words)\n",
    "            # break\n",
    "        else:\n",
    "            print('inside the else part of if:',phrase)\n",
    "            matches = get_close_matches(i, product_df['keyword'], n=2, cutoff=0.5)\n",
    "            \n",
    "            print(matches)\n",
    "                # break\n",
    "        # else:\n",
    "        #     # no match found in keyword column, try synonym column\n",
    "        #     for i in range(len(remaining_words), 0, -1):\n",
    "        #         phrase = ' '.join(remaining_words[:i])\n",
    "        #         matches = product_df[product_df['synonymkeyword'].str.lower()==phrase.lower()]\n",
    "        #         if len(matches) > 0:\n",
    "        #             keyword_matches.append((matches.iloc[0]['synonymId'], phrase))\n",
    "        #             remaining_words = remaining_words[i:]\n",
    "        #             break\n",
    "        #     else:\n",
    "        #         # no match found in synonym column, try productname column\n",
    "        #         for i in range(len(remaining_words), 0, -1):\n",
    "        #             phrase = ' '.join(remaining_words[:i])\n",
    "        #             matches = product_df[product_df['ProductName'].str.lower()==phrase.lower()]\n",
    "        #             if len(matches) > 0:\n",
    "        #                 keyword_matches.append((matches.iloc[0]['ProductCode'], phrase))\n",
    "        #                 remaining_words = remaining_words[i:]\n",
    "        #                 break\n",
    "        #         else:\n",
    "        #             # no match found in any column\n",
    "        #             remaining_words.pop(0)\n",
    "    # return keycodeids and corresponding phrases\n",
    "    return keyword_matches\n"
   ]
  },
  {
   "cell_type": "code",
   "execution_count": 107,
   "metadata": {},
   "outputs": [
    {
     "name": "stdout",
     "output_type": "stream",
     "text": [
      "OutPut: roads diesel road bridges\n",
      "remaining_words ['roads', 'diesel', 'road', 'bridges']\n",
      "Len: 4\n",
      "i: roads\n",
      "phrase roads\n",
      " Match: Empty DataFrame\n",
      "Columns: [keycodeid, keyword, ProductCode, ProductName, synonymId, synonymkeyword]\n",
      "Index: []\n",
      "inside the else part of if: roads\n",
      "['Braids', 'Boards']\n",
      "i: diesel\n",
      "phrase diesel\n",
      " Match:     keycodeid keyword ProductCode        ProductName  synonymId synonymkeyword\n",
      "314      1353  Diesel        5187  Lubricant Product        NaN               \n",
      "Keyword Match: [('1353', 'diesel')]\n",
      "i: road\n",
      "phrase road\n",
      " Match:     keycodeid keyword ProductCode ProductName  synonymId synonymkeyword\n",
      "981      5796    Road         518        Road        NaN               \n",
      "Keyword Match: [('1353', 'diesel'), ('5796', 'road')]\n",
      "i: bridges\n",
      "phrase bridges\n",
      " Match: Empty DataFrame\n",
      "Columns: [keycodeid, keyword, ProductCode, ProductName, synonymId, synonymkeyword]\n",
      "Index: []\n",
      "inside the else part of if: bridges\n",
      "['Fridge', 'Bridge']\n"
     ]
    },
    {
     "data": {
      "text/plain": [
       "[('1353', 'diesel'), ('5796', 'road')]"
      ]
     },
     "execution_count": 107,
     "metadata": {},
     "output_type": "execute_result"
    }
   ],
   "source": [
    "input_text = \" roads diesel road bridges\" \n",
    "search_keywords(input_text)"
   ]
  },
  {
   "cell_type": "code",
   "execution_count": 17,
   "metadata": {},
   "outputs": [
    {
     "data": {
      "text/plain": [
       "['road', 'roadsbridge']"
      ]
     },
     "execution_count": 17,
     "metadata": {},
     "output_type": "execute_result"
    }
   ],
   "source": [
    "words=['road', 'diesel', 'apple', 'roadsbridge']\n",
    "input=\"roads\"\n",
    "b= get_close_matches(input, words)\n",
    "b"
   ]
  },
  {
   "cell_type": "code",
   "execution_count": 28,
   "metadata": {},
   "outputs": [],
   "source": [
    "listdata=['Ravi','rajiv','sachin','piyush']"
   ]
  },
  {
   "cell_type": "code",
   "execution_count": 54,
   "metadata": {},
   "outputs": [
    {
     "name": "stdout",
     "output_type": "stream",
     "text": [
      "main: Ravi rajiv sachin piyush\n",
      "second: Ravi\n",
      "Third: Ravi\n",
      "main: Ravi rajiv sachin piyush\n",
      "second: Ravi rajiv\n",
      "Third: Ravi rajiv\n",
      "main: Ravi rajiv sachin piyush\n",
      "second: Ravi rajiv sachin\n",
      "Third: Ravi rajiv sachin\n",
      "main: Ravi rajiv sachin piyush\n",
      "second: Ravi rajiv sachin piyush\n",
      "Third: Ravi rajiv sachin piyush\n"
     ]
    }
   ],
   "source": [
    "for pos,i in enumerate(listdata):\n",
    "    main=' '.join(listdata)\n",
    "    print('main:',main)\n",
    "    second=' '.join(listdata[:pos+1])\n",
    "    print('second:',second)\n",
    "    third=' '.join(listdata[:pos+1])\n",
    "    print('Third:',third)"
   ]
  },
  {
   "cell_type": "code",
   "execution_count": null,
   "metadata": {},
   "outputs": [],
   "source": []
  },
  {
   "cell_type": "code",
   "execution_count": null,
   "metadata": {},
   "outputs": [],
   "source": []
  }
 ],
 "metadata": {
  "kernelspec": {
   "display_name": "base",
   "language": "python",
   "name": "python3"
  },
  "language_info": {
   "codemirror_mode": {
    "name": "ipython",
    "version": 3
   },
   "file_extension": ".py",
   "mimetype": "text/x-python",
   "name": "python",
   "nbconvert_exporter": "python",
   "pygments_lexer": "ipython3",
   "version": "3.10.9"
  },
  "orig_nbformat": 4
 },
 "nbformat": 4,
 "nbformat_minor": 2
}
